{
 "cells": [
  {
   "cell_type": "markdown",
   "metadata": {},
   "source": [
    "# Programming Assignment 7\n",
    "---\n",
    "**Author:** Kerry Effinger  \n",
    "**Version:** 1.0  \n",
    "**Semester:** Fall 2020  \n",
    "\n",
    "This *notebook* contains my solution to **Programming Assignment 7**\n"
   ]
  },
  {
   "cell_type": "code",
   "execution_count": 4,
   "metadata": {},
   "outputs": [],
   "source": [
    "import itertools as it\n",
    "import functools as ft\n",
    "import operator"
   ]
  },
  {
   "cell_type": "markdown",
   "metadata": {},
   "source": [
    "# a"
   ]
  },
  {
   "cell_type": "code",
   "execution_count": 35,
   "metadata": {},
   "outputs": [],
   "source": [
    "def validate_word(word):\n",
    "    if len(str(word)) != 5:\n",
    "        return False\n",
    "    return True"
   ]
  },
  {
   "cell_type": "code",
   "execution_count": 30,
   "metadata": {},
   "outputs": [],
   "source": [
    "def trigram(word):\n",
    "    tris = list(it.permutations(word, r = 3))\n",
    "    str_tris = list()\n",
    "        \n",
    "    for t in tris:\n",
    "        str_tris.append(ft.reduce(operator.add, t))\n",
    "        \n",
    "    return str_tris "
   ]
  },
  {
   "cell_type": "code",
   "execution_count": 60,
   "metadata": {},
   "outputs": [
    {
     "name": "stdout",
     "output_type": "stream",
     "text": [
      "Enter a 5 letter word: kerry\n",
      "['ker', 'ker', 'key', 'kre', 'krr', 'kry', 'kre', 'krr', 'kry', 'kye', 'kyr', 'kyr', 'ekr', 'ekr', 'eky', 'erk', 'err', 'ery', 'erk', 'err', 'ery', 'eyk', 'eyr', 'eyr', 'rke', 'rkr', 'rky', 'rek', 'rer', 'rey', 'rrk', 'rre', 'rry', 'ryk', 'rye', 'ryr', 'rke', 'rkr', 'rky', 'rek', 'rer', 'rey', 'rrk', 'rre', 'rry', 'ryk', 'rye', 'ryr', 'yke', 'ykr', 'ykr', 'yek', 'yer', 'yer', 'yrk', 'yre', 'yrr', 'yrk', 'yre', 'yrr']\n",
      "Enter a 5 letter word: colts\n",
      "['col', 'cot', 'cos', 'clo', 'clt', 'cls', 'cto', 'ctl', 'cts', 'cso', 'csl', 'cst', 'ocl', 'oct', 'ocs', 'olc', 'olt', 'ols', 'otc', 'otl', 'ots', 'osc', 'osl', 'ost', 'lco', 'lct', 'lcs', 'loc', 'lot', 'los', 'ltc', 'lto', 'lts', 'lsc', 'lso', 'lst', 'tco', 'tcl', 'tcs', 'toc', 'tol', 'tos', 'tlc', 'tlo', 'tls', 'tsc', 'tso', 'tsl', 'sco', 'scl', 'sct', 'soc', 'sol', 'sot', 'slc', 'slo', 'slt', 'stc', 'sto', 'stl']\n",
      "Enter a 5 letter word: hi\n",
      "The word must be 5 letters long!\n",
      "Enter a 5 letter word: 0\n"
     ]
    }
   ],
   "source": [
    "word =input('Enter a 5 letter word: ')\n",
    "\n",
    "while word != '0':\n",
    "\n",
    "    if validate_word(word) == True:\n",
    "        tup = trigram(word)\n",
    "        print(tup)\n",
    "    else:\n",
    "        print('The word must be 5 letters long!')\n",
    "        \n",
    "    word =input('Enter a 5 letter word: ')    "
   ]
  },
  {
   "cell_type": "markdown",
   "metadata": {},
   "source": [
    "# b"
   ]
  },
  {
   "cell_type": "code",
   "execution_count": 177,
   "metadata": {},
   "outputs": [],
   "source": [
    "numbers = {\n",
    "    'zero':'0',\n",
    "    'one':'1',\n",
    "    'two':'2',\n",
    "    'three':'3',\n",
    "    'four':'4',\n",
    "    'five':'5',\n",
    "    'six':'6',\n",
    "    'seven':'7',\n",
    "    'eight':'8',\n",
    "    'nine':'9',\n",
    "    'plus':'+',\n",
    "    'minus':'-',\n",
    "    'times':'*',\n",
    "    'divided by':'/'\n",
    "}"
   ]
  },
  {
   "cell_type": "code",
   "execution_count": 362,
   "metadata": {},
   "outputs": [],
   "source": [
    "def evaluate_expression(exp):\n",
    "    \n",
    "    split = exp.split()\n",
    "    a = int(numbers[split[0]])\n",
    "    b = numbers[split[1]]\n",
    "    c = int(numbers[split[2]])\n",
    "    \n",
    "    #if split[0] in numbers and split[2] in numbers:\n",
    "       \n",
    "    #print(a,b,c)\n",
    "    \n",
    "    if split[1] == 'plus':\n",
    "         d = a + c\n",
    "    if split[1] == 'minus':\n",
    "        d = a - c\n",
    "    if split[1] == 'times':  \n",
    "        d = a * c\n",
    "    if split[1] == 'divided by':    \n",
    "        d = a / c\n",
    "    answer = (a,b,c,'=',d)    \n",
    "    return answer\n"
   ]
  },
  {
   "cell_type": "code",
   "execution_count": 363,
   "metadata": {},
   "outputs": [
    {
     "data": {
      "text/plain": [
       "(3, '*', 4, '=', 12)"
      ]
     },
     "execution_count": 363,
     "metadata": {},
     "output_type": "execute_result"
    }
   ],
   "source": [
    "evaluate_expression('three times four')"
   ]
  },
  {
   "cell_type": "code",
   "execution_count": 354,
   "metadata": {},
   "outputs": [],
   "source": [
    "def validate_expression(operation):\n",
    "    \n",
    "    if operation not in numbers:\n",
    "        return False\n",
    "    return True"
   ]
  },
  {
   "cell_type": "code",
   "execution_count": 355,
   "metadata": {},
   "outputs": [
    {
     "name": "stdout",
     "output_type": "stream",
     "text": [
      "Enter a simple arithmetic expression in words: one times one\n",
      "cannot evalutate this expression!\n",
      "Enter a simple arithmetic expression in words: two plus two\n",
      "cannot evalutate this expression!\n",
      "Enter a simple arithmetic expression in words: 0\n"
     ]
    }
   ],
   "source": [
    "expression = input('Enter a simple arithmetic expression in words: ')\n",
    "\n",
    "while expression != '0':\n",
    "    \n",
    "    if validate_expression(expression) == True:\n",
    "        evaluate_expression(expression)\n",
    "    else:\n",
    "        print('cannot evalutate this expression!')\n",
    "    expression = input('Enter a simple arithmetic expression in words: ')"
   ]
  },
  {
   "cell_type": "code",
   "execution_count": null,
   "metadata": {},
   "outputs": [],
   "source": []
  }
 ],
 "metadata": {
  "kernelspec": {
   "display_name": "Python 3",
   "language": "python",
   "name": "python3"
  }
 },
 "nbformat": 4,
 "nbformat_minor": 4
}
